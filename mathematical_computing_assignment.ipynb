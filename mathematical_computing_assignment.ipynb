{
 "cells": [
  {
   "cell_type": "markdown",
   "id": "ae6b513b-20cd-4d05-866f-e60d416d84ef",
   "metadata": {
    "jp-MarkdownHeadingCollapsed": true
   },
   "source": [
    "## MATHEMATICAL COMPUTING GROUP WORK ASSIGNMENT\n",
    "### GROUP MEMBERS REG NUMBERS:\n",
    "1. 2024/DSC/0038/SS\n",
    "2. 2024/DSC/0071/SS\n",
    "3. 2024/DSC/0055/SS\n",
    "4. 2024/DSC/0034/SS\n",
    "5. 2024/DSC/0051/SS\n",
    "6. 2023/DCSE/0070/SS\n",
    "7. 2024/DSC/0054/SS\n",
    "8. 2024/DSC/00102/SS\n",
    "9. 2024/DSC/0096/SS\n",
    "10. 2023/DCSE/0026/SS\n",
    "11. 2024/DSC/0036/SS\n",
    "12. 2024/DSC/0022/SS\n",
    "13. 2024/DSC/0013/SS\n",
    "14. 2024/DSC/0026/SS\n"
   ]
  },
  {
   "cell_type": "markdown",
   "id": "55810a2d-f625-4ed8-ab0b-4af465c87804",
   "metadata": {},
   "source": [
    "# number_one"
   ]
  },
  {
   "cell_type": "code",
   "execution_count": 1,
   "id": "240c0d91-6689-4604-adbe-6a84dc1c0902",
   "metadata": {},
   "outputs": [],
   "source": [
    "import numpy as np"
   ]
  },
  {
   "cell_type": "code",
   "execution_count": 2,
   "id": "7c77fcaf-1ae4-4cde-a706-039d47c0da5f",
   "metadata": {},
   "outputs": [
    {
     "name": "stdout",
     "output_type": "stream",
     "text": [
      "[[ 2  2  3]\n",
      " [-2  7  4]\n",
      " [-3 -3 -4]\n",
      " [-8  2  3]]\n"
     ]
    }
   ],
   "source": [
    "matrix_A = np.array([[2,2,3],[-2,7,4],[-3,-3,-4],[-8,2,3]])\n",
    "print(matrix_A)"
   ]
  },
  {
   "cell_type": "markdown",
   "id": "aeeefd1c-f7a9-4a53-ae14-3f63fef6b60a",
   "metadata": {},
   "source": [
    "## (I)"
   ]
  },
  {
   "cell_type": "code",
   "execution_count": 3,
   "id": "466d8ec9-46eb-4838-bd1a-006360e26201",
   "metadata": {},
   "outputs": [
    {
     "name": "stdout",
     "output_type": "stream",
     "text": [
      "[[ 2  2  3  1]\n",
      " [-2  7  4  0]\n",
      " [-3 -3 -4  1]\n",
      " [-8  2  3  1]]\n"
     ]
    }
   ],
   "source": [
    "new_column = np.array([[1],[0],[1],[1]]) # adding a new column\n",
    "new_matrix = np.hstack((matrix_A,new_column)) #hstack adds a column in a matrix\n",
    "print(new_matrix)"
   ]
  },
  {
   "cell_type": "code",
   "execution_count": 4,
   "id": "ad930b47-80b0-447f-8640-a189ca703fc5",
   "metadata": {},
   "outputs": [
    {
     "name": "stdout",
     "output_type": "stream",
     "text": [
      "-289.99999999999994\n"
     ]
    }
   ],
   "source": [
    "determinant = np.linalg.det(new_matrix) # proving the invertable conditions\n",
    "print(determinant)"
   ]
  },
  {
   "cell_type": "markdown",
   "id": "1f078778-229d-4b03-8810-5dcf8d3c664b",
   "metadata": {},
   "source": [
    "## (II)"
   ]
  },
  {
   "cell_type": "code",
   "execution_count": 5,
   "id": "e3053be6-f7f0-4bf4-b682-310ab1dc9ad3",
   "metadata": {},
   "outputs": [
    {
     "name": "stdout",
     "output_type": "stream",
     "text": [
      "[[ 2  2  3]\n",
      " [-2  7  4]\n",
      " [-3 -3 -4]]\n"
     ]
    }
   ],
   "source": [
    "matrix_A = np.array([[2,2,3],[-2,7,4],[-3,-3,-4],[-8,2,3]])\n",
    "reduced_matrix = np.delete(matrix_A,3,axis=0) #removing a row in the 4th position\n",
    "print(reduced_matrix)"
   ]
  },
  {
   "cell_type": "code",
   "execution_count": 6,
   "id": "d2a0432f-3d67-4775-aa17-988fce179d36",
   "metadata": {},
   "outputs": [
    {
     "name": "stdout",
     "output_type": "stream",
     "text": [
      "9.000000000000005\n"
     ]
    }
   ],
   "source": [
    "determinant = np.linalg.det(reduced_matrix) # proving the invertable conditions\n",
    "print(determinant)"
   ]
  },
  {
   "cell_type": "markdown",
   "id": "1963950f-7f7a-489d-b241-ecdc150121cf",
   "metadata": {},
   "source": [
    "## (III)"
   ]
  },
  {
   "cell_type": "code",
   "execution_count": 7,
   "id": "3ee6f594-a79e-4c6d-95e2-e603ab2ae945",
   "metadata": {},
   "outputs": [
    {
     "name": "stdout",
     "output_type": "stream",
     "text": [
      "[[ 2 -2 -3 -8]\n",
      " [ 2  7 -3  2]\n",
      " [ 3  4 -4  3]]\n"
     ]
    }
   ],
   "source": [
    "A = np.array([[2,2,3],[-2,7,4],[-3,-3,-4],[-8,2,3]])\n",
    "AT = np.transpose(A) # Find the transpose of A\n",
    "print(AT)"
   ]
  },
  {
   "cell_type": "code",
   "execution_count": 8,
   "id": "6de75558-ea3c-40d6-a1a1-b7b72dc661ad",
   "metadata": {},
   "outputs": [
    {
     "name": "stdout",
     "output_type": "stream",
     "text": [
      "[[ 17  22 -24  -3]\n",
      " [ 22  69 -31  42]\n",
      " [-24 -31  34   6]\n",
      " [ -3  42   6  77]]\n"
     ]
    }
   ],
   "source": [
    "AAT = np.dot(A,AT) # Find the product of AAT\n",
    "print(AAT)"
   ]
  },
  {
   "cell_type": "code",
   "execution_count": 98,
   "id": "fa44d618-a021-4965-a488-00bf14543420",
   "metadata": {},
   "outputs": [
    {
     "data": {
      "text/plain": [
       "np.float64(3.3772984409097314e-12)"
      ]
     },
     "execution_count": 98,
     "metadata": {},
     "output_type": "execute_result"
    }
   ],
   "source": [
    "determinant = np.linalg.det(product_matrix)\n",
    "determinant"
   ]
  },
  {
   "cell_type": "markdown",
   "id": "4be18d36-7d23-4b0d-bb04-51d014e9f073",
   "metadata": {},
   "source": [
    "Yes, AAT is invertable because their product is a square matrix and their determinant is not equal to zero"
   ]
  },
  {
   "cell_type": "markdown",
   "id": "7d7be058-685e-4dab-8904-12eba5b52a95",
   "metadata": {},
   "source": [
    "## or"
   ]
  },
  {
   "cell_type": "code",
   "execution_count": 9,
   "id": "1bdd59cb-6745-48ee-ad5f-c2e017410539",
   "metadata": {},
   "outputs": [
    {
     "name": "stdout",
     "output_type": "stream",
     "text": [
      "Product Matrix is invertible.\n"
     ]
    }
   ],
   "source": [
    "determinant = np.linalg.det(AAT)\n",
    "if determinant != 0 :\n",
    "    print(\"Product Matrix is invertible.\")\n",
    "else:\n",
    "    print(\"Product Matrix is not invertible.\")"
   ]
  },
  {
   "cell_type": "markdown",
   "id": "a6ee3a39-017b-4960-adc6-362ea8129ef8",
   "metadata": {},
   "source": [
    "## (IV)"
   ]
  },
  {
   "cell_type": "code",
   "execution_count": 12,
   "id": "cf309a1c-6ff2-4bb6-a466-ccbba4029f59",
   "metadata": {},
   "outputs": [
    {
     "name": "stdout",
     "output_type": "stream",
     "text": [
      "[[ 2  2  3]\n",
      " [-2  7  4]\n",
      " [-3 -3 -4]\n",
      " [-8  2  3]]\n"
     ]
    }
   ],
   "source": [
    "A = np.array([[2,2,3],[-2,7,4],[-3,-3,-4],[-8,2,3]])\n",
    "A_T = np.transpose(A) # Find the transpose of A\n",
    "print(A)"
   ]
  },
  {
   "cell_type": "code",
   "execution_count": 13,
   "id": "7ae29a07-dbd6-40d9-ae67-c5f7abd72f2a",
   "metadata": {},
   "outputs": [
    {
     "name": "stdout",
     "output_type": "stream",
     "text": [
      "[[ 2 -2 -3 -8]\n",
      " [ 2  7 -3  2]\n",
      " [ 3  4 -4  3]]\n"
     ]
    }
   ],
   "source": [
    "print(A_T)"
   ]
  },
  {
   "cell_type": "code",
   "execution_count": 14,
   "id": "836ff0f4-74fd-4d66-903e-bed777f32b39",
   "metadata": {},
   "outputs": [
    {
     "name": "stdout",
     "output_type": "stream",
     "text": [
      "[[ 81 -17 -14]\n",
      " [-17  66  52]\n",
      " [-14  52  50]]\n"
     ]
    }
   ],
   "source": [
    "ATA = np.dot(A_T,A) # Find the product of AAT\n",
    "print(ATA)"
   ]
  },
  {
   "cell_type": "code",
   "execution_count": 16,
   "id": "a79fd74c-c251-4436-bdad-95d178dff3e6",
   "metadata": {},
   "outputs": [
    {
     "name": "stdout",
     "output_type": "stream",
     "text": [
      "45642.00000000001\n"
     ]
    }
   ],
   "source": [
    "determinant = np.linalg.det(ATA)\n",
    "print(determinant)"
   ]
  },
  {
   "cell_type": "markdown",
   "id": "e1b71cbf-1572-416f-8694-76c1ba60bea7",
   "metadata": {},
   "source": [
    "Yes, ATA is invertable because the determinant of A and A_T is not equal to zero."
   ]
  },
  {
   "cell_type": "markdown",
   "id": "d753632c-ecab-4268-b7c7-e3ad6bd22395",
   "metadata": {},
   "source": [
    "# NUMBER TWO"
   ]
  },
  {
   "cell_type": "code",
   "execution_count": 17,
   "id": "54905c27-e20c-4625-b10e-f199d3d4d579",
   "metadata": {},
   "outputs": [
    {
     "data": {
      "text/plain": [
       "array([[25,  2],\n",
       "       [ 5, 26],\n",
       "       [ 3,  7]])"
      ]
     },
     "execution_count": 17,
     "metadata": {},
     "output_type": "execute_result"
    }
   ],
   "source": [
    "import numpy as np\n",
    "X = np.array([[25, 2], [5, 26], [3, 7]])\n",
    "X"
   ]
  },
  {
   "cell_type": "markdown",
   "id": "2186feb7-787a-40fa-a386-61b652442164",
   "metadata": {},
   "source": [
    "## the shape of X"
   ]
  },
  {
   "cell_type": "code",
   "execution_count": 104,
   "id": "7abb9597-7015-46d1-a5e4-804a4bc0b643",
   "metadata": {},
   "outputs": [
    {
     "name": "stdout",
     "output_type": "stream",
     "text": [
      "(3, 2)\n"
     ]
    }
   ],
   "source": [
    "shape_x = X.shape\n",
    "print(shape_x)"
   ]
  },
  {
   "cell_type": "markdown",
   "id": "5ed29393-afc3-4cae-94d1-387a2a1cef56",
   "metadata": {},
   "source": [
    "## transpose of x"
   ]
  },
  {
   "cell_type": "code",
   "execution_count": 19,
   "id": "a3d8321e-4fe4-4ec8-b1f2-1c6f974a480b",
   "metadata": {},
   "outputs": [
    {
     "name": "stdout",
     "output_type": "stream",
     "text": [
      "[[25  5  3]\n",
      " [ 2 26  7]]\n"
     ]
    }
   ],
   "source": [
    "transpose = np.transpose(X) # find the transpose of x\n",
    "print(transpose)"
   ]
  },
  {
   "cell_type": "markdown",
   "id": "e4414ce5-424b-429e-8281-98fe4807ec1d",
   "metadata": {},
   "source": [
    "#### or"
   ]
  },
  {
   "cell_type": "code",
   "execution_count": 106,
   "id": "cef67f31-7103-4fb2-959b-a6f31eaa8587",
   "metadata": {},
   "outputs": [
    {
     "name": "stdout",
     "output_type": "stream",
     "text": [
      "[[25  5  3]\n",
      " [ 2 26  7]]\n"
     ]
    }
   ],
   "source": [
    "transpose2 = X.T\n",
    "print(transpose2)"
   ]
  },
  {
   "cell_type": "markdown",
   "id": "b6e0fcd1-fdb4-468e-85d1-aaf6b6bc7ee6",
   "metadata": {},
   "source": [
    "## generating a new n-d array"
   ]
  },
  {
   "cell_type": "code",
   "execution_count": 107,
   "id": "90a50c63-c483-432b-b095-1dbfd6d3bcca",
   "metadata": {},
   "outputs": [
    {
     "name": "stdout",
     "output_type": "stream",
     "text": [
      "[[25  2]\n",
      " [ 5 26]\n",
      " [ 3  7]]\n"
     ]
    }
   ],
   "source": [
    "X = np.array([[25, 2], [5, 26], [3, 7]])\n",
    "X_scalar = np.dot(3,X)\n",
    "print(X)\n"
   ]
  },
  {
   "cell_type": "code",
   "execution_count": 108,
   "id": "3dc4701f-d85f-4bd2-84ae-698cd8b50308",
   "metadata": {},
   "outputs": [
    {
     "name": "stdout",
     "output_type": "stream",
     "text": [
      "[[75  6]\n",
      " [15 78]\n",
      " [ 9 21]]\n"
     ]
    }
   ],
   "source": [
    "print(X_scalar)"
   ]
  },
  {
   "cell_type": "markdown",
   "id": "822496b3-f3e7-4052-b2e4-27a21cf77281",
   "metadata": {},
   "source": [
    "## generate new matrix A and computing the matrix multiplication of X and A"
   ]
  },
  {
   "cell_type": "code",
   "execution_count": 21,
   "id": "d560be6c-465b-4e39-b58a-fc8a1ccdf5df",
   "metadata": {},
   "outputs": [
    {
     "data": {
      "text/plain": [
       "array([[3, 4],\n",
       "       [5, 6],\n",
       "       [7, 8]])"
      ]
     },
     "execution_count": 21,
     "metadata": {},
     "output_type": "execute_result"
    }
   ],
   "source": [
    "A = np.array([[3,4], [5,6], [7,8]])\n",
    "A"
   ]
  },
  {
   "cell_type": "markdown",
   "id": "810cd16a-94e1-4abd-b5f5-9474131461b2",
   "metadata": {},
   "source": [
    "Multiplying the transpose of x with matrix A so as to obey the laws of multiplication of matrices."
   ]
  },
  {
   "cell_type": "code",
   "execution_count": 22,
   "id": "2296462a-d9b5-4549-97c5-08ce85bd43a2",
   "metadata": {},
   "outputs": [
    {
     "name": "stdout",
     "output_type": "stream",
     "text": [
      "[[121 154]\n",
      " [185 220]]\n"
     ]
    }
   ],
   "source": [
    "product_matrix = np.dot(transpose,A)\n",
    "print(product_matrix)"
   ]
  },
  {
   "cell_type": "markdown",
   "id": "5ddc4d91-89e3-4126-9fac-6b6c9d24afb3",
   "metadata": {},
   "source": [
    "## inverse of a matrix"
   ]
  },
  {
   "cell_type": "code",
   "execution_count": 115,
   "id": "16c52fbd-90d5-4a31-b362-d58691844024",
   "metadata": {},
   "outputs": [
    {
     "name": "stdout",
     "output_type": "stream",
     "text": [
      "[[-0.11764706  0.09893048]\n",
      " [ 0.08235294 -0.06470588]]\n"
     ]
    }
   ],
   "source": [
    "inverse_matrix = np.linalg.inv(product_matrix) # inverse of XA\n",
    "print(inverse_matrix)"
   ]
  },
  {
   "cell_type": "code",
   "execution_count": 116,
   "id": "62b2c65c-6893-4cb5-923e-02f402b7e3ec",
   "metadata": {},
   "outputs": [
    {
     "name": "stdout",
     "output_type": "stream",
     "text": [
      "[[-0.11764706  0.08235294]\n",
      " [ 0.09893048 -0.06470588]]\n"
     ]
    }
   ],
   "source": [
    "inverse_matrix = np.linalg.inv(matrix_product) # inverse of XA\n",
    "print(inverse_matrix)"
   ]
  },
  {
   "cell_type": "markdown",
   "id": "bd15d2f9-4afd-48cf-b5f4-327049d25113",
   "metadata": {},
   "source": [
    "# NUMBER THREE"
   ]
  },
  {
   "cell_type": "markdown",
   "id": "f48f55ef-e3be-4c46-88a3-828a3e46334f",
   "metadata": {},
   "source": [
    "## (i)"
   ]
  },
  {
   "cell_type": "code",
   "execution_count": 12,
   "id": "76292c36-9595-4a7b-a785-0648dbf95c05",
   "metadata": {},
   "outputs": [
    {
     "name": "stdout",
     "output_type": "stream",
     "text": [
      "[25  2  5]\n"
     ]
    }
   ],
   "source": [
    "x = np.array([25, 2, 5])\n",
    "print(x)"
   ]
  },
  {
   "cell_type": "markdown",
   "id": "cd04166f-dcb6-4131-b7c1-b2f2e062126f",
   "metadata": {},
   "source": [
    "## (ii)"
   ]
  },
  {
   "cell_type": "markdown",
   "id": "1d9f1c21-7d4c-4ab6-a577-0bc4579bff1b",
   "metadata": {},
   "source": [
    "## shape of array x"
   ]
  },
  {
   "cell_type": "code",
   "execution_count": 8,
   "id": "1b47cf37-161b-46d9-b64e-dadbd5347b40",
   "metadata": {},
   "outputs": [
    {
     "name": "stdout",
     "output_type": "stream",
     "text": [
      "(3,)\n"
     ]
    }
   ],
   "source": [
    "print(x.shape)   "
   ]
  },
  {
   "cell_type": "markdown",
   "id": "4408dd9e-8a8e-4759-a7be-fd494dfbf6b9",
   "metadata": {},
   "source": [
    "## (iii)"
   ]
  },
  {
   "cell_type": "markdown",
   "id": "d26733cc-5aa5-481b-80c3-918106823794",
   "metadata": {},
   "source": [
    "## transpose"
   ]
  },
  {
   "cell_type": "code",
   "execution_count": 10,
   "id": "1ea81288-f2da-4886-b437-73cfe4caa5c0",
   "metadata": {},
   "outputs": [
    {
     "name": "stdout",
     "output_type": "stream",
     "text": [
      "[25  2  5]\n"
     ]
    }
   ],
   "source": [
    "x_transpose = np.transpose(x) # find the transpose of x\n",
    "print(x_transpose)"
   ]
  },
  {
   "cell_type": "markdown",
   "id": "45d71d55-56bf-447a-b9ba-54b8f2286e7a",
   "metadata": {},
   "source": [
    "## (iv) L^2 norm"
   ]
  },
  {
   "cell_type": "code",
   "execution_count": 13,
   "id": "0338c91b-0566-4f9f-945d-a925812c6f93",
   "metadata": {},
   "outputs": [
    {
     "name": "stdout",
     "output_type": "stream",
     "text": [
      "25.573423705088842\n"
     ]
    }
   ],
   "source": [
    "norm_x = np.linalg.norm(x)\n",
    "print(norm_x)"
   ]
  },
  {
   "cell_type": "code",
   "execution_count": null,
   "id": "594869e3-fbb4-41f8-8445-1c7e51a6b570",
   "metadata": {},
   "outputs": [],
   "source": []
  }
 ],
 "metadata": {
  "kernelspec": {
   "display_name": "Python 3 (ipykernel)",
   "language": "python",
   "name": "python3"
  },
  "language_info": {
   "codemirror_mode": {
    "name": "ipython",
    "version": 3
   },
   "file_extension": ".py",
   "mimetype": "text/x-python",
   "name": "python",
   "nbconvert_exporter": "python",
   "pygments_lexer": "ipython3",
   "version": "3.12.6"
  }
 },
 "nbformat": 4,
 "nbformat_minor": 5
}
